{
 "cells": [
  {
   "cell_type": "markdown",
   "id": "8ec2fcec",
   "metadata": {},
   "source": [
    "## Modelagem"
   ]
  },
  {
   "cell_type": "markdown",
   "id": "7e17b49c",
   "metadata": {},
   "source": [
    "Nesta série de scripts iremos começar o processo de modelagem. O método que mais se aplica ao nosso conjunto de dados é a análise de dados em painel. Aqui iremos aplicar este primeiro método e depois iremos explorar outras opções. Usei o exemplo desse [link](https://bashtage.github.io/linearmodels/panel/examples/examples.html)."
   ]
  },
  {
   "cell_type": "code",
   "execution_count": 21,
   "id": "6eac7512",
   "metadata": {},
   "outputs": [],
   "source": [
    "# Carregar librarias\n",
    "import pandas as pd\n",
    "import statsmodels.api as sm\n",
    "from linearmodels.datasets import wage_panel\n",
    "from linearmodels.panel import PooledOLS\n",
    "from linearmodels.panel import RandomEffects\n",
    "from linearmodels.panel import BetweenOLS\n",
    "from linearmodels.panel import compare\n",
    "import warnings\n",
    "warnings.filterwarnings('ignore')"
   ]
  },
  {
   "cell_type": "code",
   "execution_count": 2,
   "id": "35ddb884",
   "metadata": {},
   "outputs": [],
   "source": [
    "# Carregar dataset\n",
    "data_sugarcane = pd.read_csv(\"dat_join.csv\", sep =  ';')"
   ]
  },
  {
   "cell_type": "code",
   "execution_count": 3,
   "id": "14aadabe",
   "metadata": {},
   "outputs": [
    {
     "data": {
      "text/html": [
       "<div>\n",
       "<style scoped>\n",
       "    .dataframe tbody tr th:only-of-type {\n",
       "        vertical-align: middle;\n",
       "    }\n",
       "\n",
       "    .dataframe tbody tr th {\n",
       "        vertical-align: top;\n",
       "    }\n",
       "\n",
       "    .dataframe thead th {\n",
       "        text-align: right;\n",
       "    }\n",
       "</style>\n",
       "<table border=\"1\" class=\"dataframe\">\n",
       "  <thead>\n",
       "    <tr style=\"text-align: right;\">\n",
       "      <th></th>\n",
       "      <th>CD_MUN</th>\n",
       "      <th>Município</th>\n",
       "      <th>value</th>\n",
       "      <th>YEAR</th>\n",
       "      <th>AET</th>\n",
       "      <th>NDVI</th>\n",
       "      <th>NPP</th>\n",
       "      <th>SOIL</th>\n",
       "      <th>TMIN</th>\n",
       "      <th>TMMX</th>\n",
       "      <th>PR</th>\n",
       "    </tr>\n",
       "  </thead>\n",
       "  <tbody>\n",
       "    <tr>\n",
       "      <th>0</th>\n",
       "      <td>3500105</td>\n",
       "      <td>Adamantina (SP)</td>\n",
       "      <td>50000.0</td>\n",
       "      <td>2000</td>\n",
       "      <td>704</td>\n",
       "      <td>5174</td>\n",
       "      <td>4047</td>\n",
       "      <td>166</td>\n",
       "      <td>163</td>\n",
       "      <td>288</td>\n",
       "      <td>91</td>\n",
       "    </tr>\n",
       "    <tr>\n",
       "      <th>1</th>\n",
       "      <td>3500204</td>\n",
       "      <td>Adolfo (SP)</td>\n",
       "      <td>NaN</td>\n",
       "      <td>2000</td>\n",
       "      <td>716</td>\n",
       "      <td>4080</td>\n",
       "      <td>5245</td>\n",
       "      <td>255</td>\n",
       "      <td>162</td>\n",
       "      <td>290</td>\n",
       "      <td>94</td>\n",
       "    </tr>\n",
       "    <tr>\n",
       "      <th>2</th>\n",
       "      <td>3500303</td>\n",
       "      <td>Aguaí (SP)</td>\n",
       "      <td>80000.0</td>\n",
       "      <td>2000</td>\n",
       "      <td>675</td>\n",
       "      <td>5614</td>\n",
       "      <td>8672</td>\n",
       "      <td>399</td>\n",
       "      <td>151</td>\n",
       "      <td>272</td>\n",
       "      <td>109</td>\n",
       "    </tr>\n",
       "    <tr>\n",
       "      <th>3</th>\n",
       "      <td>3500550</td>\n",
       "      <td>Águas de Santa Bárbara (SP)</td>\n",
       "      <td>NaN</td>\n",
       "      <td>2000</td>\n",
       "      <td>776</td>\n",
       "      <td>5388</td>\n",
       "      <td>8146</td>\n",
       "      <td>246</td>\n",
       "      <td>142</td>\n",
       "      <td>270</td>\n",
       "      <td>95</td>\n",
       "    </tr>\n",
       "    <tr>\n",
       "      <th>4</th>\n",
       "      <td>3500709</td>\n",
       "      <td>Agudos (SP)</td>\n",
       "      <td>70000.0</td>\n",
       "      <td>2000</td>\n",
       "      <td>746</td>\n",
       "      <td>5969</td>\n",
       "      <td>9080</td>\n",
       "      <td>248</td>\n",
       "      <td>146</td>\n",
       "      <td>274</td>\n",
       "      <td>94</td>\n",
       "    </tr>\n",
       "  </tbody>\n",
       "</table>\n",
       "</div>"
      ],
      "text/plain": [
       "    CD_MUN                    Município    value  YEAR  AET  NDVI   NPP  SOIL  \\\n",
       "0  3500105              Adamantina (SP)  50000.0  2000  704  5174  4047   166   \n",
       "1  3500204                  Adolfo (SP)      NaN  2000  716  4080  5245   255   \n",
       "2  3500303                   Aguaí (SP)  80000.0  2000  675  5614  8672   399   \n",
       "3  3500550  Águas de Santa Bárbara (SP)      NaN  2000  776  5388  8146   246   \n",
       "4  3500709                  Agudos (SP)  70000.0  2000  746  5969  9080   248   \n",
       "\n",
       "   TMIN  TMMX   PR  \n",
       "0   163   288   91  \n",
       "1   162   290   94  \n",
       "2   151   272  109  \n",
       "3   142   270   95  \n",
       "4   146   274   94  "
      ]
     },
     "execution_count": 3,
     "metadata": {},
     "output_type": "execute_result"
    }
   ],
   "source": [
    "# Visão dos dados\n",
    "data_sugarcane.head()"
   ]
  },
  {
   "cell_type": "code",
   "execution_count": 4,
   "id": "2eec3cba",
   "metadata": {},
   "outputs": [
    {
     "data": {
      "text/plain": [
       "[2000, 2000, 2000, 2000, 2000, ..., 2020, 2020, 2020, 2020, 2020]\n",
       "Length: 10185\n",
       "Categories (21, int64): [2000, 2001, 2002, 2003, ..., 2017, 2018, 2019, 2020]"
      ]
     },
     "execution_count": 4,
     "metadata": {},
     "output_type": "execute_result"
    }
   ],
   "source": [
    "# Converter o ano para categórico\n",
    "year_sugar = pd.Categorical(data_sugarcane.YEAR)\n",
    "year_sugar"
   ]
  },
  {
   "cell_type": "code",
   "execution_count": 5,
   "id": "8ce72b26",
   "metadata": {},
   "outputs": [],
   "source": [
    "# Criar o index utilizando o ano e o código do municipio\n",
    "data_sugar = data_sugarcane.set_index(['CD_MUN', 'YEAR'])"
   ]
  },
  {
   "cell_type": "code",
   "execution_count": 6,
   "id": "20fcbc9d",
   "metadata": {},
   "outputs": [],
   "source": [
    "# Adicionar a coluna do ano\n",
    "data_sugar['YEAR'] = year_sugar"
   ]
  },
  {
   "cell_type": "code",
   "execution_count": 7,
   "id": "507d7479",
   "metadata": {},
   "outputs": [
    {
     "name": "stdout",
     "output_type": "stream",
     "text": [
      "<class 'pandas.core.frame.DataFrame'>\n",
      "MultiIndex: 10185 entries, (3500105, 2000) to (3557303, 2020)\n",
      "Data columns (total 10 columns):\n",
      " #   Column     Non-Null Count  Dtype   \n",
      "---  ------     --------------  -----   \n",
      " 0   Município  10185 non-null  object  \n",
      " 1   value      9525 non-null   float64 \n",
      " 2   AET        10185 non-null  int64   \n",
      " 3   NDVI       10185 non-null  int64   \n",
      " 4   NPP        10185 non-null  int64   \n",
      " 5   SOIL       10185 non-null  int64   \n",
      " 6   TMIN       10185 non-null  int64   \n",
      " 7   TMMX       10185 non-null  int64   \n",
      " 8   PR         10185 non-null  int64   \n",
      " 9   YEAR       10185 non-null  category\n",
      "dtypes: category(1), float64(1), int64(7), object(1)\n",
      "memory usage: 777.4+ KB\n"
     ]
    }
   ],
   "source": [
    "# Info\n",
    "data_sugar.info()"
   ]
  },
  {
   "cell_type": "code",
   "execution_count": 8,
   "id": "6abe59ba",
   "metadata": {},
   "outputs": [],
   "source": [
    "# Selecionar as variáveis que serão utilizadas na modelagem\n",
    "exog_vars_sugar = ['AET', 'NDVI', 'NPP', 'SOIL', 'TMIN', 'TMMX', 'PR','YEAR']"
   ]
  },
  {
   "cell_type": "code",
   "execution_count": 9,
   "id": "5566d061",
   "metadata": {},
   "outputs": [
    {
     "name": "stdout",
     "output_type": "stream",
     "text": [
      "<class 'pandas.core.frame.DataFrame'>\n",
      "MultiIndex: 10185 entries, (3500105, 2000) to (3557303, 2020)\n",
      "Data columns (total 9 columns):\n",
      " #   Column  Non-Null Count  Dtype   \n",
      "---  ------  --------------  -----   \n",
      " 0   const   10185 non-null  float64 \n",
      " 1   AET     10185 non-null  int64   \n",
      " 2   NDVI    10185 non-null  int64   \n",
      " 3   NPP     10185 non-null  int64   \n",
      " 4   SOIL    10185 non-null  int64   \n",
      " 5   TMIN    10185 non-null  int64   \n",
      " 6   TMMX    10185 non-null  int64   \n",
      " 7   PR      10185 non-null  int64   \n",
      " 8   YEAR    10185 non-null  category\n",
      "dtypes: category(1), float64(1), int64(7)\n",
      "memory usage: 697.8 KB\n"
     ]
    }
   ],
   "source": [
    "# Adicionar a constante\n",
    "exog_sugar = sm.add_constant(data_sugar[exog_vars_sugar])\n",
    "exog_sugar.info()"
   ]
  },
  {
   "cell_type": "code",
   "execution_count": 11,
   "id": "a8f39eb0",
   "metadata": {},
   "outputs": [
    {
     "name": "stdout",
     "output_type": "stream",
     "text": [
      "                          PooledOLS Estimation Summary                          \n",
      "================================================================================\n",
      "Dep. Variable:                  value   R-squared:                        0.1264\n",
      "Estimator:                  PooledOLS   R-squared (Between):              0.2293\n",
      "No. Observations:                9525   R-squared (Within):               0.0785\n",
      "Date:                Wed, Jul 20 2022   R-squared (Overall):              0.1264\n",
      "Time:                        04:50:41   Log-likelihood                -1.031e+05\n",
      "Cov. Estimator:            Unadjusted                                           \n",
      "                                        F-statistic:                      50.884\n",
      "Entities:                         485   P-value                           0.0000\n",
      "Avg Obs:                       19.639   Distribution:                 F(27,9497)\n",
      "Min Obs:                       13.000                                           \n",
      "Max Obs:                       21.000   F-statistic (robust):             50.884\n",
      "                                        P-value                           0.0000\n",
      "Time periods:                      21   Distribution:                 F(27,9497)\n",
      "Avg Obs:                       453.57                                           \n",
      "Min Obs:                       365.00                                           \n",
      "Max Obs:                       484.00                                           \n",
      "                                                                                \n",
      "                             Parameter Estimates                              \n",
      "==============================================================================\n",
      "            Parameter  Std. Err.     T-stat    P-value    Lower CI    Upper CI\n",
      "------------------------------------------------------------------------------\n",
      "const        1.46e+05     6229.5     23.441     0.0000   1.338e+05   1.582e+05\n",
      "AET            0.4461     3.2552     0.1370     0.8910     -5.9348      6.8270\n",
      "NDVI          -5.1420     0.3776    -13.617     0.0000     -5.8823     -4.4018\n",
      "NPP           -1.1890     0.1440    -8.2562     0.0000     -1.4713     -0.9067\n",
      "SOIL           22.838     1.9471     11.729     0.0000      19.022      26.655\n",
      "TMIN           89.681     30.849     2.9071     0.0037      29.211      150.15\n",
      "TMMX          -155.28     27.304    -5.6870     0.0000     -208.80     -101.76\n",
      "PR            -113.43     15.935    -7.1184     0.0000     -144.67     -82.196\n",
      "YEAR.2001     -129.67     945.68    -0.1371     0.8909     -1983.4      1724.1\n",
      "YEAR.2002      1575.6     906.47     1.7382     0.0822     -201.27      3352.5\n",
      "YEAR.2003      3776.0     914.32     4.1298     0.0000      1983.7      5568.2\n",
      "YEAR.2004      5667.9     907.88     6.2430     0.0000      3888.2      7447.5\n",
      "YEAR.2005      7518.7     908.99     8.2715     0.0000      5736.9      9300.6\n",
      "YEAR.2006      9968.4     920.79     10.826     0.0000      8163.5   1.177e+04\n",
      "YEAR.2007   1.041e+04     932.60     11.164     0.0000      8583.0   1.224e+04\n",
      "YEAR.2008   1.011e+04     890.25     11.352     0.0000      8361.4   1.185e+04\n",
      "YEAR.2009   1.445e+04     1002.9     14.407     0.0000   1.248e+04   1.641e+04\n",
      "YEAR.2010   1.399e+04     986.06     14.187     0.0000   1.206e+04   1.592e+04\n",
      "YEAR.2011      9819.7     914.33     10.740     0.0000      8027.4   1.161e+04\n",
      "YEAR.2012      5264.1     924.26     5.6955     0.0000      3452.4      7075.9\n",
      "YEAR.2013      7055.9     945.79     7.4604     0.0000      5202.0      8909.9\n",
      "YEAR.2014     -2269.9     899.29    -2.5241     0.0116     -4032.7     -507.14\n",
      "YEAR.2015      6757.6     1048.4     6.4455     0.0000      4702.5      8812.7\n",
      "YEAR.2016      7290.0     947.45     7.6943     0.0000      5432.8      9147.2\n",
      "YEAR.2017      6480.2     956.95     6.7717     0.0000      4604.3      8356.0\n",
      "YEAR.2018      4433.7     955.42     4.6406     0.0000      2560.9      6306.5\n",
      "YEAR.2019      1030.3     1059.1     0.9728     0.3307     -1045.8      3106.4\n",
      "YEAR.2020      938.55     1038.3     0.9039     0.3661     -1096.7      2973.8\n",
      "==============================================================================\n"
     ]
    }
   ],
   "source": [
    "# Criar e rodar o modelo - Simple OLS\n",
    "mod_sugar = PooledOLS(data_sugar.value, exog_sugar)\n",
    "pooled_res_sugar = mod_sugar.fit()\n",
    "print(pooled_res_sugar)"
   ]
  },
  {
   "cell_type": "code",
   "execution_count": 14,
   "id": "90928848",
   "metadata": {},
   "outputs": [
    {
     "name": "stdout",
     "output_type": "stream",
     "text": [
      "                        RandomEffects Estimation Summary                        \n",
      "================================================================================\n",
      "Dep. Variable:                  value   R-squared:                        0.1089\n",
      "Estimator:              RandomEffects   R-squared (Between):              0.2085\n",
      "No. Observations:                9525   R-squared (Within):               0.0829\n",
      "Date:                Wed, Jul 20 2022   R-squared (Overall):              0.1226\n",
      "Time:                        04:51:37   Log-likelihood                -1.018e+05\n",
      "Cov. Estimator:            Unadjusted                                           \n",
      "                                        F-statistic:                      43.002\n",
      "Entities:                         485   P-value                           0.0000\n",
      "Avg Obs:                       19.639   Distribution:                 F(27,9497)\n",
      "Min Obs:                       13.000                                           \n",
      "Max Obs:                       21.000   F-statistic (robust):             35.122\n",
      "                                        P-value                           0.0000\n",
      "Time periods:                      21   Distribution:                 F(27,9497)\n",
      "Avg Obs:                       453.57                                           \n",
      "Min Obs:                       365.00                                           \n",
      "Max Obs:                       484.00                                           \n",
      "                                                                                \n",
      "                             Parameter Estimates                              \n",
      "==============================================================================\n",
      "            Parameter  Std. Err.     T-stat    P-value    Lower CI    Upper CI\n",
      "------------------------------------------------------------------------------\n",
      "const       1.118e+05  1.085e+04     10.299     0.0000   9.048e+04    1.33e+05\n",
      "AET            4.0337     3.3047     1.2206     0.2223     -2.4442      10.512\n",
      "NDVI          -5.0992     0.8289    -6.1517     0.0000     -6.7240     -3.4743\n",
      "NPP           -0.7204     0.1847    -3.9009     0.0001     -1.0824     -0.3584\n",
      "SOIL           17.670     3.6884     4.7908     0.0000      10.440      24.900\n",
      "TMIN           96.852     60.562     1.5992     0.1098     -21.862      215.57\n",
      "TMMX          -70.372     50.266    -1.4000     0.1616     -168.90      28.161\n",
      "PR            -62.938     15.897    -3.9593     0.0001     -94.099     -31.778\n",
      "YEAR.2001     -567.16     847.14    -0.6695     0.5032     -2227.7      1093.4\n",
      "YEAR.2002      521.81     860.82     0.6062     0.5444     -1165.6      2209.2\n",
      "YEAR.2003      3139.8     833.60     3.7666     0.0002      1505.8      4773.8\n",
      "YEAR.2004      4735.8     829.21     5.7112     0.0000      3110.4      6361.2\n",
      "YEAR.2005      5936.4     832.16     7.1338     0.0000      4305.2      7567.6\n",
      "YEAR.2006      8683.0     846.82     10.254     0.0000      7023.0   1.034e+04\n",
      "YEAR.2007      8465.8     882.19     9.5963     0.0000      6736.5    1.02e+04\n",
      "YEAR.2008      8833.4     819.10     10.784     0.0000      7227.8   1.044e+04\n",
      "YEAR.2009   1.107e+04     953.61     11.606     0.0000      9198.1   1.294e+04\n",
      "YEAR.2010   1.089e+04     941.41     11.572     0.0000      9048.3   1.274e+04\n",
      "YEAR.2011      7998.4     842.49     9.4938     0.0000      6347.0      9649.9\n",
      "YEAR.2012      3217.9     878.11     3.6646     0.0002      1496.6      4939.2\n",
      "YEAR.2013      5429.7     907.92     5.9804     0.0000      3650.0      7209.4\n",
      "YEAR.2014     -3331.4     838.18    -3.9745     0.0001     -4974.4     -1688.4\n",
      "YEAR.2015      2751.2     1037.4     2.6520     0.0080      717.67      4784.6\n",
      "YEAR.2016      4797.0     906.21     5.2935     0.0000      3020.6      6573.3\n",
      "YEAR.2017      4283.8     926.05     4.6258     0.0000      2468.5      6099.0\n",
      "YEAR.2018      2576.2     939.44     2.7422     0.0061      734.67      4417.7\n",
      "YEAR.2019      73.935     1095.2     0.0675     0.9462     -2073.0      2220.8\n",
      "YEAR.2020      1443.2     982.51     1.4689     0.1419     -482.74      3369.1\n",
      "==============================================================================\n"
     ]
    }
   ],
   "source": [
    "# Criar e rodar o modelo  - Random effects\n",
    "mod_random_sugar = RandomEffects(data_sugar.value, exog_sugar)\n",
    "re_res_sugar = mod_random_sugar.fit()\n",
    "print(re_res_sugar)"
   ]
  },
  {
   "cell_type": "code",
   "execution_count": 15,
   "id": "79db5769",
   "metadata": {},
   "outputs": [
    {
     "data": {
      "text/plain": [
       "Effects                   3.570774e+07\n",
       "Residual                  1.115000e+08\n",
       "Percent due to Effects    2.425671e-01\n",
       "Name: Variance Decomposition, dtype: float64"
      ]
     },
     "execution_count": 15,
     "metadata": {},
     "output_type": "execute_result"
    }
   ],
   "source": [
    "# Decomponer a variancia\n",
    "re_res_sugar.variance_decomposition"
   ]
  },
  {
   "cell_type": "markdown",
   "id": "18a7bd8e",
   "metadata": {},
   "source": [
    "Rodar o modelo sem considerar o ano (Between OLS)"
   ]
  },
  {
   "cell_type": "code",
   "execution_count": 17,
   "id": "d40b815e",
   "metadata": {},
   "outputs": [],
   "source": [
    "# Excluir o ano das variavéis\n",
    "exog_vars_sugar_sem_year = ['AET', 'NDVI', 'NPP', 'SOIL', 'TMIN', 'TMMX', 'PR']"
   ]
  },
  {
   "cell_type": "code",
   "execution_count": 18,
   "id": "c4a81b92",
   "metadata": {},
   "outputs": [],
   "source": [
    "# Adicionar a constante\n",
    "exog_sem_year = sm.add_constant(data_sugar[exog_vars_sugar_sem_year])"
   ]
  },
  {
   "cell_type": "code",
   "execution_count": 20,
   "id": "481f69ac",
   "metadata": {},
   "outputs": [
    {
     "name": "stdout",
     "output_type": "stream",
     "text": [
      "                         BetweenOLS Estimation Summary                          \n",
      "================================================================================\n",
      "Dep. Variable:                  value   R-squared:                        0.2332\n",
      "Estimator:                 BetweenOLS   R-squared (Between):              0.2325\n",
      "No. Observations:                 485   R-squared (Within):              -0.3028\n",
      "Date:                Wed, Jul 20 2022   R-squared (Overall):             -0.1332\n",
      "Time:                        04:53:24   Log-likelihood                   -4938.5\n",
      "Cov. Estimator:            Unadjusted                                           \n",
      "                                        F-statistic:                      62.723\n",
      "Entities:                         485   P-value                           0.0000\n",
      "Avg Obs:                       19.639   Distribution:                   F(7,477)\n",
      "Min Obs:                       13.000                                           \n",
      "Max Obs:                       21.000   F-statistic (robust):             20.722\n",
      "                                        P-value                           0.0000\n",
      "Time periods:                      21   Distribution:                   F(7,477)\n",
      "Avg Obs:                       453.57                                           \n",
      "Min Obs:                       365.00                                           \n",
      "Max Obs:                       484.00                                           \n",
      "                                                                                \n",
      "                             Parameter Estimates                              \n",
      "==============================================================================\n",
      "            Parameter  Std. Err.     T-stat    P-value    Lower CI    Upper CI\n",
      "------------------------------------------------------------------------------\n",
      "const       1.862e+05  1.951e+04     9.5455     0.0000   1.479e+05   2.246e+05\n",
      "AET           -4.0720     14.230    -0.2862     0.7749     -32.033      23.889\n",
      "NDVI          -5.1259     0.9187    -5.5796     0.0000     -6.9311     -3.3207\n",
      "NPP           -1.2325     0.4199    -2.9349     0.0035     -2.0576     -0.4073\n",
      "SOIL           32.993     6.7548     4.8844     0.0000      19.720      46.266\n",
      "TMIN           148.44     82.199     1.8058     0.0716     -13.078      309.95\n",
      "TMMX          -248.63     86.150    -2.8860     0.0041     -417.91     -79.345\n",
      "PR            -267.29     73.776    -3.6230     0.0003     -412.26     -122.33\n",
      "==============================================================================\n"
     ]
    }
   ],
   "source": [
    "# Criar e rodar o modelo sem o efeito do ano\n",
    "mod_sem_year = BetweenOLS(data_sugar.value, exog_sem_year)\n",
    "be_res_sugar = mod_sem_year.fit(reweight = True)\n",
    "print(be_res_sugar)"
   ]
  },
  {
   "cell_type": "markdown",
   "id": "6d142dea",
   "metadata": {},
   "source": [
    "Comparar os modelos"
   ]
  },
  {
   "cell_type": "code",
   "execution_count": 22,
   "id": "cc2e6660",
   "metadata": {},
   "outputs": [
    {
     "name": "stdout",
     "output_type": "stream",
     "text": [
      "                        Model Comparison                       \n",
      "===============================================================\n",
      "                                BE              RE       Pooled\n",
      "---------------------------------------------------------------\n",
      "Dep. Variable                value           value        value\n",
      "Estimator               BetweenOLS   RandomEffects    PooledOLS\n",
      "No. Observations               485            9525         9525\n",
      "Cov. Est.               Unadjusted      Unadjusted   Unadjusted\n",
      "R-squared                   0.2332          0.1089       0.1264\n",
      "R-Squared (Within)         -0.3028          0.0829       0.0785\n",
      "R-Squared (Between)         0.2325          0.2085       0.2293\n",
      "R-Squared (Overall)        -0.1332          0.1226       0.1264\n",
      "F-statistic                 62.723          43.002       50.884\n",
      "P-value (F-stat)            0.0000          0.0000       0.0000\n",
      "===================== ============ =============== ============\n",
      "const                    1.862e+05       1.118e+05     1.46e+05\n",
      "                          (9.5455)        (10.299)     (23.441)\n",
      "AET                        -4.0720          4.0337       0.4461\n",
      "                         (-0.2862)        (1.2206)     (0.1370)\n",
      "NDVI                       -5.1259         -5.0992      -5.1420\n",
      "                         (-5.5796)       (-6.1517)    (-13.617)\n",
      "NPP                        -1.2325         -0.7204      -1.1890\n",
      "                         (-2.9349)       (-3.9009)    (-8.2562)\n",
      "SOIL                        32.993          17.670       22.838\n",
      "                          (4.8844)        (4.7908)     (11.729)\n",
      "TMIN                        148.44          96.852       89.681\n",
      "                          (1.8058)        (1.5992)     (2.9071)\n",
      "TMMX                       -248.63         -70.372      -155.28\n",
      "                         (-2.8860)       (-1.4000)    (-5.6870)\n",
      "PR                         -267.29         -62.938      -113.43\n",
      "                         (-3.6230)       (-3.9593)    (-7.1184)\n",
      "YEAR.2001                                  -567.16      -129.67\n",
      "                                         (-0.6695)    (-0.1371)\n",
      "YEAR.2002                                   521.81       1575.6\n",
      "                                          (0.6062)     (1.7382)\n",
      "YEAR.2003                                   3139.8       3776.0\n",
      "                                          (3.7666)     (4.1298)\n",
      "YEAR.2004                                   4735.8       5667.9\n",
      "                                          (5.7112)     (6.2430)\n",
      "YEAR.2005                                   5936.4       7518.7\n",
      "                                          (7.1338)     (8.2715)\n",
      "YEAR.2006                                   8683.0       9968.4\n",
      "                                          (10.254)     (10.826)\n",
      "YEAR.2007                                   8465.8    1.041e+04\n",
      "                                          (9.5963)     (11.164)\n",
      "YEAR.2008                                   8833.4    1.011e+04\n",
      "                                          (10.784)     (11.352)\n",
      "YEAR.2009                                1.107e+04    1.445e+04\n",
      "                                          (11.606)     (14.407)\n",
      "YEAR.2010                                1.089e+04    1.399e+04\n",
      "                                          (11.572)     (14.187)\n",
      "YEAR.2011                                   7998.4       9819.7\n",
      "                                          (9.4938)     (10.740)\n",
      "YEAR.2012                                   3217.9       5264.1\n",
      "                                          (3.6646)     (5.6955)\n",
      "YEAR.2013                                   5429.7       7055.9\n",
      "                                          (5.9804)     (7.4604)\n",
      "YEAR.2014                                  -3331.4      -2269.9\n",
      "                                         (-3.9745)    (-2.5241)\n",
      "YEAR.2015                                   2751.2       6757.6\n",
      "                                          (2.6520)     (6.4455)\n",
      "YEAR.2016                                   4797.0       7290.0\n",
      "                                          (5.2935)     (7.6943)\n",
      "YEAR.2017                                   4283.8       6480.2\n",
      "                                          (4.6258)     (6.7717)\n",
      "YEAR.2018                                   2576.2       4433.7\n",
      "                                          (2.7422)     (4.6406)\n",
      "YEAR.2019                                   73.935       1030.3\n",
      "                                          (0.0675)     (0.9728)\n",
      "YEAR.2020                                   1443.2       938.55\n",
      "                                          (1.4689)     (0.9039)\n",
      "---------------------------------------------------------------\n",
      "\n",
      "T-stats reported in parentheses\n"
     ]
    }
   ],
   "source": [
    "print(compare({\"BE\": be_res_sugar,'RE': re_res_sugar, \"Pooled\": pooled_res_sugar}))"
   ]
  },
  {
   "cell_type": "code",
   "execution_count": null,
   "id": "15820a82",
   "metadata": {},
   "outputs": [],
   "source": []
  }
 ],
 "metadata": {
  "kernelspec": {
   "display_name": "geo_env",
   "language": "python",
   "name": "geo_env"
  },
  "language_info": {
   "codemirror_mode": {
    "name": "ipython",
    "version": 3
   },
   "file_extension": ".py",
   "mimetype": "text/x-python",
   "name": "python",
   "nbconvert_exporter": "python",
   "pygments_lexer": "ipython3",
   "version": "3.10.5"
  }
 },
 "nbformat": 4,
 "nbformat_minor": 5
}
