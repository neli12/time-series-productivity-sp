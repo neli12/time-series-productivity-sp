{
 "cells": [
  {
   "cell_type": "markdown",
   "id": "8ec2fcec",
   "metadata": {},
   "source": [
    "## Modelagem"
   ]
  },
  {
   "cell_type": "markdown",
   "id": "7e17b49c",
   "metadata": {},
   "source": [
    "Nesta série de scripts iremos começar o processo de modelagem. O método que mais se aplica ao nosso conjunto de dados é a análise de dados em painel. Aqui iremos aplicar este primeiro método e depois iremos explorar outras opções. Usei o exemplo desse [link](https://bashtage.github.io/linearmodels/panel/examples/examples.html)."
   ]
  },
  {
   "cell_type": "code",
   "execution_count": 1,
   "id": "6eac7512",
   "metadata": {},
   "outputs": [],
   "source": [
    "# Carregar librarias\n",
    "import pandas as pd\n",
    "import statsmodels.api as sm\n",
    "from linearmodels.datasets import wage_panel\n",
    "from linearmodels.panel import PooledOLS\n",
    "from linearmodels.panel import RandomEffects\n",
    "from linearmodels.panel import BetweenOLS\n",
    "from linearmodels.panel import compare\n",
    "import warnings\n",
    "warnings.filterwarnings('ignore')"
   ]
  },
  {
   "cell_type": "code",
   "execution_count": 6,
   "id": "35ddb884",
   "metadata": {},
   "outputs": [],
   "source": [
    "# Carregar dataset\n",
    "data_sugarcane = pd.read_csv(\"new_data_all.csv\", sep =  ',').drop(['Unnamed: 0'], axis = 1)"
   ]
  },
  {
   "cell_type": "code",
   "execution_count": 7,
   "id": "14aadabe",
   "metadata": {},
   "outputs": [
    {
     "data": {
      "text/html": [
       "<div>\n",
       "<style scoped>\n",
       "    .dataframe tbody tr th:only-of-type {\n",
       "        vertical-align: middle;\n",
       "    }\n",
       "\n",
       "    .dataframe tbody tr th {\n",
       "        vertical-align: top;\n",
       "    }\n",
       "\n",
       "    .dataframe thead th {\n",
       "        text-align: right;\n",
       "    }\n",
       "</style>\n",
       "<table border=\"1\" class=\"dataframe\">\n",
       "  <thead>\n",
       "    <tr style=\"text-align: right;\">\n",
       "      <th></th>\n",
       "      <th>CD_MUN</th>\n",
       "      <th>MUN</th>\n",
       "      <th>Year</th>\n",
       "      <th>Yield</th>\n",
       "      <th>AP</th>\n",
       "      <th>AC</th>\n",
       "      <th>QP</th>\n",
       "      <th>VP</th>\n",
       "      <th>AET</th>\n",
       "      <th>NDVI</th>\n",
       "      <th>NPP</th>\n",
       "      <th>SOIL</th>\n",
       "      <th>TMIN</th>\n",
       "      <th>TMMX</th>\n",
       "      <th>PR</th>\n",
       "    </tr>\n",
       "  </thead>\n",
       "  <tbody>\n",
       "    <tr>\n",
       "      <th>0</th>\n",
       "      <td>3500105</td>\n",
       "      <td>Adamantina (SP)</td>\n",
       "      <td>2000</td>\n",
       "      <td>50000.0</td>\n",
       "      <td>7000.0</td>\n",
       "      <td>7000.0</td>\n",
       "      <td>350000.0</td>\n",
       "      <td>6244.0</td>\n",
       "      <td>704</td>\n",
       "      <td>5174</td>\n",
       "      <td>4047</td>\n",
       "      <td>166</td>\n",
       "      <td>163</td>\n",
       "      <td>288</td>\n",
       "      <td>91</td>\n",
       "    </tr>\n",
       "    <tr>\n",
       "      <th>1</th>\n",
       "      <td>3500204</td>\n",
       "      <td>Adolfo (SP)</td>\n",
       "      <td>2000</td>\n",
       "      <td>NaN</td>\n",
       "      <td>NaN</td>\n",
       "      <td>NaN</td>\n",
       "      <td>NaN</td>\n",
       "      <td>NaN</td>\n",
       "      <td>716</td>\n",
       "      <td>4080</td>\n",
       "      <td>5245</td>\n",
       "      <td>255</td>\n",
       "      <td>162</td>\n",
       "      <td>290</td>\n",
       "      <td>94</td>\n",
       "    </tr>\n",
       "    <tr>\n",
       "      <th>2</th>\n",
       "      <td>3500303</td>\n",
       "      <td>Aguaí (SP)</td>\n",
       "      <td>2000</td>\n",
       "      <td>80000.0</td>\n",
       "      <td>5250.0</td>\n",
       "      <td>5250.0</td>\n",
       "      <td>420000.0</td>\n",
       "      <td>7493.0</td>\n",
       "      <td>675</td>\n",
       "      <td>5614</td>\n",
       "      <td>8672</td>\n",
       "      <td>399</td>\n",
       "      <td>151</td>\n",
       "      <td>272</td>\n",
       "      <td>109</td>\n",
       "    </tr>\n",
       "    <tr>\n",
       "      <th>3</th>\n",
       "      <td>3500550</td>\n",
       "      <td>Águas de Santa Bárbara (SP)</td>\n",
       "      <td>2000</td>\n",
       "      <td>NaN</td>\n",
       "      <td>NaN</td>\n",
       "      <td>NaN</td>\n",
       "      <td>NaN</td>\n",
       "      <td>NaN</td>\n",
       "      <td>776</td>\n",
       "      <td>5388</td>\n",
       "      <td>8146</td>\n",
       "      <td>246</td>\n",
       "      <td>142</td>\n",
       "      <td>270</td>\n",
       "      <td>95</td>\n",
       "    </tr>\n",
       "    <tr>\n",
       "      <th>4</th>\n",
       "      <td>3500709</td>\n",
       "      <td>Agudos (SP)</td>\n",
       "      <td>2000</td>\n",
       "      <td>70000.0</td>\n",
       "      <td>8000.0</td>\n",
       "      <td>8000.0</td>\n",
       "      <td>560000.0</td>\n",
       "      <td>9990.0</td>\n",
       "      <td>746</td>\n",
       "      <td>5969</td>\n",
       "      <td>9080</td>\n",
       "      <td>248</td>\n",
       "      <td>146</td>\n",
       "      <td>274</td>\n",
       "      <td>94</td>\n",
       "    </tr>\n",
       "  </tbody>\n",
       "</table>\n",
       "</div>"
      ],
      "text/plain": [
       "    CD_MUN                          MUN  Year    Yield      AP      AC  \\\n",
       "0  3500105              Adamantina (SP)  2000  50000.0  7000.0  7000.0   \n",
       "1  3500204                  Adolfo (SP)  2000      NaN     NaN     NaN   \n",
       "2  3500303                   Aguaí (SP)  2000  80000.0  5250.0  5250.0   \n",
       "3  3500550  Águas de Santa Bárbara (SP)  2000      NaN     NaN     NaN   \n",
       "4  3500709                  Agudos (SP)  2000  70000.0  8000.0  8000.0   \n",
       "\n",
       "         QP      VP  AET  NDVI   NPP  SOIL  TMIN  TMMX   PR  \n",
       "0  350000.0  6244.0  704  5174  4047   166   163   288   91  \n",
       "1       NaN     NaN  716  4080  5245   255   162   290   94  \n",
       "2  420000.0  7493.0  675  5614  8672   399   151   272  109  \n",
       "3       NaN     NaN  776  5388  8146   246   142   270   95  \n",
       "4  560000.0  9990.0  746  5969  9080   248   146   274   94  "
      ]
     },
     "execution_count": 7,
     "metadata": {},
     "output_type": "execute_result"
    }
   ],
   "source": [
    "# Visão dos dados\n",
    "data_sugarcane.head()"
   ]
  },
  {
   "cell_type": "code",
   "execution_count": 8,
   "id": "2eec3cba",
   "metadata": {},
   "outputs": [
    {
     "data": {
      "text/plain": [
       "[2000, 2000, 2000, 2000, 2000, ..., 2020, 2020, 2020, 2020, 2020]\n",
       "Length: 10185\n",
       "Categories (21, int64): [2000, 2001, 2002, 2003, ..., 2017, 2018, 2019, 2020]"
      ]
     },
     "execution_count": 8,
     "metadata": {},
     "output_type": "execute_result"
    }
   ],
   "source": [
    "# Converter o ano para categórico\n",
    "year_sugar = pd.Categorical(data_sugarcane.Year)\n",
    "year_sugar"
   ]
  },
  {
   "cell_type": "code",
   "execution_count": 9,
   "id": "8ce72b26",
   "metadata": {},
   "outputs": [],
   "source": [
    "# Criar o index utilizando o ano e o código do municipio\n",
    "data_sugar = data_sugarcane.set_index(['CD_MUN', 'Year'])"
   ]
  },
  {
   "cell_type": "code",
   "execution_count": 10,
   "id": "20fcbc9d",
   "metadata": {},
   "outputs": [],
   "source": [
    "# Adicionar a coluna do ano\n",
    "data_sugar['Year'] = year_sugar"
   ]
  },
  {
   "cell_type": "code",
   "execution_count": 11,
   "id": "507d7479",
   "metadata": {},
   "outputs": [
    {
     "name": "stdout",
     "output_type": "stream",
     "text": [
      "<class 'pandas.core.frame.DataFrame'>\n",
      "MultiIndex: 10185 entries, (3500105, 2000) to (3557303, 2020)\n",
      "Data columns (total 14 columns):\n",
      " #   Column  Non-Null Count  Dtype   \n",
      "---  ------  --------------  -----   \n",
      " 0   MUN     10185 non-null  object  \n",
      " 1   Yield   9525 non-null   float64 \n",
      " 2   AP      9536 non-null   float64 \n",
      " 3   AC      9527 non-null   float64 \n",
      " 4   QP      9527 non-null   float64 \n",
      " 5   VP      9527 non-null   float64 \n",
      " 6   AET     10185 non-null  int64   \n",
      " 7   NDVI    10185 non-null  int64   \n",
      " 8   NPP     10185 non-null  int64   \n",
      " 9   SOIL    10185 non-null  int64   \n",
      " 10  TMIN    10185 non-null  int64   \n",
      " 11  TMMX    10185 non-null  int64   \n",
      " 12  PR      10185 non-null  int64   \n",
      " 13  Year    10185 non-null  category\n",
      "dtypes: category(1), float64(5), int64(7), object(1)\n",
      "memory usage: 1.1+ MB\n"
     ]
    }
   ],
   "source": [
    "# Info\n",
    "data_sugar.info()"
   ]
  },
  {
   "cell_type": "code",
   "execution_count": 14,
   "id": "6abe59ba",
   "metadata": {},
   "outputs": [],
   "source": [
    "# Selecionar as variáveis que serão utilizadas na modelagem\n",
    "exog_vars_sugar = ['AP', 'AC', 'QP', 'VP', 'AET', 'NDVI', 'NPP', 'SOIL', 'TMIN', 'TMMX', 'PR','Year']"
   ]
  },
  {
   "cell_type": "code",
   "execution_count": 15,
   "id": "5566d061",
   "metadata": {},
   "outputs": [
    {
     "name": "stdout",
     "output_type": "stream",
     "text": [
      "<class 'pandas.core.frame.DataFrame'>\n",
      "MultiIndex: 10185 entries, (3500105, 2000) to (3557303, 2020)\n",
      "Data columns (total 13 columns):\n",
      " #   Column  Non-Null Count  Dtype   \n",
      "---  ------  --------------  -----   \n",
      " 0   const   10185 non-null  float64 \n",
      " 1   AP      9536 non-null   float64 \n",
      " 2   AC      9527 non-null   float64 \n",
      " 3   QP      9527 non-null   float64 \n",
      " 4   VP      9527 non-null   float64 \n",
      " 5   AET     10185 non-null  int64   \n",
      " 6   NDVI    10185 non-null  int64   \n",
      " 7   NPP     10185 non-null  int64   \n",
      " 8   SOIL    10185 non-null  int64   \n",
      " 9   TMIN    10185 non-null  int64   \n",
      " 10  TMMX    10185 non-null  int64   \n",
      " 11  PR      10185 non-null  int64   \n",
      " 12  Year    10185 non-null  category\n",
      "dtypes: category(1), float64(5), int64(7)\n",
      "memory usage: 1016.1 KB\n"
     ]
    }
   ],
   "source": [
    "# Adicionar a constante\n",
    "exog_sugar = sm.add_constant(data_sugar[exog_vars_sugar])\n",
    "exog_sugar.info()"
   ]
  },
  {
   "cell_type": "code",
   "execution_count": 17,
   "id": "a8f39eb0",
   "metadata": {},
   "outputs": [
    {
     "name": "stdout",
     "output_type": "stream",
     "text": [
      "                          PooledOLS Estimation Summary                          \n",
      "================================================================================\n",
      "Dep. Variable:                  Yield   R-squared:                        0.3661\n",
      "Estimator:                  PooledOLS   R-squared (Between):              0.4224\n",
      "No. Observations:                9525   R-squared (Within):               0.3377\n",
      "Date:                Wed, Jul 27 2022   R-squared (Overall):              0.3661\n",
      "Time:                        07:59:57   Log-likelihood                -1.016e+05\n",
      "Cov. Estimator:            Unadjusted                                           \n",
      "                                        F-statistic:                      176.83\n",
      "Entities:                         485   P-value                           0.0000\n",
      "Avg Obs:                       19.639   Distribution:                 F(31,9493)\n",
      "Min Obs:                       13.000                                           \n",
      "Max Obs:                       21.000   F-statistic (robust):             176.83\n",
      "                                        P-value                           0.0000\n",
      "Time periods:                      21   Distribution:                 F(31,9493)\n",
      "Avg Obs:                       453.57                                           \n",
      "Min Obs:                       365.00                                           \n",
      "Max Obs:                       484.00                                           \n",
      "                                                                                \n",
      "                             Parameter Estimates                              \n",
      "==============================================================================\n",
      "            Parameter  Std. Err.     T-stat    P-value    Lower CI    Upper CI\n",
      "------------------------------------------------------------------------------\n",
      "const       1.278e+05     5325.8     23.989     0.0000   1.173e+05   1.382e+05\n",
      "AP             0.0142     0.1886     0.0752     0.9401     -0.3555      0.3839\n",
      "AC            -4.2299     0.2018    -20.956     0.0000     -4.6255     -3.8342\n",
      "QP             0.0516     0.0009     58.335     0.0000      0.0499      0.0534\n",
      "VP             0.0165     0.0061     2.7026     0.0069      0.0045      0.0284\n",
      "AET           -0.6901     2.7815    -0.2481     0.8040     -6.1424      4.7621\n",
      "NDVI          -2.9949     0.3306    -9.0599     0.0000     -3.6429     -2.3470\n",
      "NPP           -1.0934     0.1229    -8.8941     0.0000     -1.3344     -0.8524\n",
      "SOIL           5.2336     1.7099     3.0608     0.0022      1.8818      8.5853\n",
      "TMIN           38.459     26.428     1.4552     0.1456     -13.346      90.263\n",
      "TMMX          -93.767     23.335    -4.0183     0.0001     -139.51     -48.025\n",
      "PR            -69.403     13.704    -5.0643     0.0000     -96.266     -42.540\n",
      "Year.2001     -708.76     807.24    -0.8780     0.3800     -2291.1      873.60\n",
      "Year.2002     -226.04     775.93    -0.2913     0.7708     -1747.0      1294.9\n",
      "Year.2003      2102.5     781.32     2.6910     0.0071      570.96      3634.1\n",
      "Year.2004      3698.8     775.77     4.7679     0.0000      2178.1      5219.4\n",
      "Year.2005      4560.9     778.05     5.8620     0.0000      3035.7      6086.0\n",
      "Year.2006      6849.2     789.86     8.6713     0.0000      5300.9      8397.5\n",
      "Year.2007      6380.2     800.13     7.9740     0.0000      4811.8      7948.6\n",
      "Year.2008      5561.7     764.12     7.2785     0.0000      4063.9      7059.6\n",
      "Year.2009      8707.3     866.03     10.054     0.0000      7009.7    1.04e+04\n",
      "Year.2010      8202.2     850.22     9.6472     0.0000      6535.6      9868.8\n",
      "Year.2011      6264.4     792.39     7.9057     0.0000      4711.1      7817.6\n",
      "Year.2012      3722.0     801.34     4.6448     0.0000      2151.2      5292.8\n",
      "Year.2013      4982.1     817.49     6.0944     0.0000      3379.7      6584.6\n",
      "Year.2014      951.17     777.43     1.2235     0.2212     -572.75      2475.1\n",
      "Year.2015      5529.3     907.09     6.0956     0.0000      3751.2      7307.4\n",
      "Year.2016      5266.8     830.08     6.3449     0.0000      3639.6      6893.9\n",
      "Year.2017      4706.2     842.16     5.5883     0.0000      3055.4      6357.0\n",
      "Year.2018      3611.1     836.79     4.3155     0.0000      1970.8      5251.4\n",
      "Year.2019      1567.5     922.92     1.6984     0.0895     -241.64      3376.6\n",
      "Year.2020      718.89     919.73     0.7816     0.4345     -1084.0      2521.8\n",
      "==============================================================================\n"
     ]
    }
   ],
   "source": [
    "# Criar e rodar o modelo - Simple OLS\n",
    "mod_sugar = PooledOLS(data_sugar.Yield, exog_sugar)\n",
    "pooled_res_sugar = mod_sugar.fit()\n",
    "print(pooled_res_sugar)"
   ]
  },
  {
   "cell_type": "code",
   "execution_count": 18,
   "id": "90928848",
   "metadata": {},
   "outputs": [
    {
     "name": "stdout",
     "output_type": "stream",
     "text": [
      "                        RandomEffects Estimation Summary                        \n",
      "================================================================================\n",
      "Dep. Variable:                  Yield   R-squared:                        0.3583\n",
      "Estimator:              RandomEffects   R-squared (Between):              0.4002\n",
      "No. Observations:                9525   R-squared (Within):               0.3420\n",
      "Date:                Wed, Jul 27 2022   R-squared (Overall):              0.3619\n",
      "Time:                        08:01:28   Log-likelihood                -1.002e+05\n",
      "Cov. Estimator:            Unadjusted                                           \n",
      "                                        F-statistic:                      171.02\n",
      "Entities:                         485   P-value                           0.0000\n",
      "Avg Obs:                       19.639   Distribution:                 F(31,9493)\n",
      "Min Obs:                       13.000                                           \n",
      "Max Obs:                       21.000   F-statistic (robust):             161.71\n",
      "                                        P-value                           0.0000\n",
      "Time periods:                      21   Distribution:                 F(31,9493)\n",
      "Avg Obs:                       453.57                                           \n",
      "Min Obs:                       365.00                                           \n",
      "Max Obs:                       484.00                                           \n",
      "                                                                                \n",
      "                             Parameter Estimates                              \n",
      "==============================================================================\n",
      "            Parameter  Std. Err.     T-stat    P-value    Lower CI    Upper CI\n",
      "------------------------------------------------------------------------------\n",
      "const       9.353e+04     9349.8     10.004     0.0000   7.521e+04   1.119e+05\n",
      "AP            -0.0649     0.1680    -0.3865     0.6991     -0.3943      0.2644\n",
      "AC            -4.2167     0.1821    -23.152     0.0000     -4.5737     -3.8597\n",
      "QP             0.0517     0.0009     59.115     0.0000      0.0499      0.0534\n",
      "VP             0.0278     0.0055     5.0333     0.0000      0.0170      0.0386\n",
      "AET            1.3078     2.8145     0.4647     0.6422     -4.2091      6.8248\n",
      "NDVI          -3.4531     0.7313    -4.7216     0.0000     -4.8867     -2.0195\n",
      "NPP           -0.4360     0.1585    -2.7508     0.0060     -0.7466     -0.1253\n",
      "SOIL           0.9303     3.2387     0.2873     0.7739     -5.4182      7.2789\n",
      "TMIN           57.677     52.280     1.1032     0.2700     -44.803      160.16\n",
      "TMMX          -4.4409     43.315    -0.1025     0.9183     -89.347      80.465\n",
      "PR            -26.027     13.591    -1.9151     0.0555     -52.667      0.6137\n",
      "Year.2001     -817.16     720.05    -1.1349     0.2565     -2228.6      594.31\n",
      "Year.2002     -1124.0     734.92    -1.5294     0.1262     -2564.6      316.64\n",
      "Year.2003      1118.2     710.47     1.5738     0.1156     -274.52      2510.8\n",
      "Year.2004      2488.2     706.39     3.5224     0.0004      1103.5      3872.9\n",
      "Year.2005      2839.3     710.51     3.9961     0.0001      1446.5      4232.0\n",
      "Year.2006      5215.5     725.22     7.1916     0.0000      3793.9      6637.1\n",
      "Year.2007      4133.9     756.05     5.4677     0.0000      2651.8      5615.9\n",
      "Year.2008      4111.8     703.05     5.8485     0.0000      2733.6      5489.9\n",
      "Year.2009      5519.1     822.88     6.7070     0.0000      3906.1      7132.1\n",
      "Year.2010      5051.6     811.89     6.2220     0.0000      3460.1      6643.1\n",
      "Year.2011      4173.0     731.64     5.7036     0.0000      2738.8      5607.1\n",
      "Year.2012      1398.0     761.51     1.8359     0.0664     -94.690      2890.8\n",
      "Year.2013      2999.6     784.73     3.8225     0.0001      1461.4      4537.9\n",
      "Year.2014     -365.77     725.17    -0.5044     0.6140     -1787.2      1055.7\n",
      "Year.2015      1562.9     897.17     1.7420     0.0815     -195.77      3321.5\n",
      "Year.2016      2447.4     794.31     3.0812     0.0021      890.41      4004.5\n",
      "Year.2017      2065.8     814.13     2.5374     0.0112      469.93      3661.7\n",
      "Year.2018      1096.0     821.36     1.3343     0.1821     -514.08      2706.0\n",
      "Year.2019     -428.32     950.59    -0.4506     0.6523     -2291.7      1435.0\n",
      "Year.2020      165.01     866.81     0.1904     0.8490     -1534.1      1864.1\n",
      "==============================================================================\n"
     ]
    }
   ],
   "source": [
    "# Criar e rodar o modelo  - Random effects\n",
    "mod_random_sugar = RandomEffects(data_sugar.Yield, exog_sugar)\n",
    "re_res_sugar = mod_random_sugar.fit()\n",
    "print(re_res_sugar)"
   ]
  },
  {
   "cell_type": "code",
   "execution_count": 19,
   "id": "79db5769",
   "metadata": {},
   "outputs": [
    {
     "data": {
      "text/plain": [
       "Effects                   2.688133e+07\n",
       "Residual                  8.041024e+07\n",
       "Percent due to Effects    2.505446e-01\n",
       "Name: Variance Decomposition, dtype: float64"
      ]
     },
     "execution_count": 19,
     "metadata": {},
     "output_type": "execute_result"
    }
   ],
   "source": [
    "# Decomponer a variancia\n",
    "re_res_sugar.variance_decomposition"
   ]
  },
  {
   "cell_type": "markdown",
   "id": "18a7bd8e",
   "metadata": {},
   "source": [
    "Rodar o modelo sem considerar o ano (Between OLS)"
   ]
  },
  {
   "cell_type": "code",
   "execution_count": 20,
   "id": "d40b815e",
   "metadata": {},
   "outputs": [],
   "source": [
    "# Excluir o ano das variavéis\n",
    "exog_vars_sugar_sem_year = ['AP', 'AC', 'QP', 'VP', 'AET', 'NDVI', 'NPP', 'SOIL', 'TMIN', 'TMMX', 'PR']"
   ]
  },
  {
   "cell_type": "code",
   "execution_count": 21,
   "id": "c4a81b92",
   "metadata": {},
   "outputs": [],
   "source": [
    "# Adicionar a constante\n",
    "exog_sem_year = sm.add_constant(data_sugar[exog_vars_sugar_sem_year])"
   ]
  },
  {
   "cell_type": "code",
   "execution_count": 22,
   "id": "481f69ac",
   "metadata": {},
   "outputs": [
    {
     "name": "stdout",
     "output_type": "stream",
     "text": [
      "                         BetweenOLS Estimation Summary                          \n",
      "================================================================================\n",
      "Dep. Variable:                  Yield   R-squared:                        0.4360\n",
      "Estimator:                 BetweenOLS   R-squared (Between):              0.4309\n",
      "No. Observations:                 485   R-squared (Within):               0.1402\n",
      "Date:                Wed, Jul 27 2022   R-squared (Overall):              0.2334\n",
      "Time:                        08:02:17   Log-likelihood                   -4863.9\n",
      "Cov. Estimator:            Unadjusted                                           \n",
      "                                        F-statistic:                      69.221\n",
      "Entities:                         485   P-value                           0.0000\n",
      "Avg Obs:                       19.639   Distribution:                  F(11,473)\n",
      "Min Obs:                       13.000                                           \n",
      "Max Obs:                       21.000   F-statistic (robust):             33.238\n",
      "                                        P-value                           0.0000\n",
      "Time periods:                      21   Distribution:                  F(11,473)\n",
      "Avg Obs:                       453.57                                           \n",
      "Min Obs:                       365.00                                           \n",
      "Max Obs:                       484.00                                           \n",
      "                                                                                \n",
      "                             Parameter Estimates                              \n",
      "==============================================================================\n",
      "            Parameter  Std. Err.     T-stat    P-value    Lower CI    Upper CI\n",
      "------------------------------------------------------------------------------\n",
      "const       1.608e+05  1.712e+04     9.3964     0.0000   1.272e+05   1.945e+05\n",
      "AP             2.3484     1.8502     1.2693     0.2050     -1.2872      5.9840\n",
      "AC            -6.4663     1.8999    -3.4035     0.0007     -10.200     -2.7330\n",
      "QP             0.0549     0.0046     11.826     0.0000      0.0458      0.0640\n",
      "VP            -0.0801     0.0578    -1.3852     0.1667     -0.1937      0.0335\n",
      "AET           -0.8733     12.264    -0.0712     0.9433     -24.973      23.226\n",
      "NDVI          -2.9043     0.8221    -3.5326     0.0005     -4.5198     -1.2888\n",
      "NPP           -1.2429     0.3694    -3.3645     0.0008     -1.9688     -0.5170\n",
      "SOIL           15.039     5.9935     2.5093     0.0124      3.2623      26.817\n",
      "TMIN           81.109     71.061     1.1414     0.2543     -58.525      220.74\n",
      "TMMX          -173.98     75.042    -2.3185     0.0208     -321.44     -26.525\n",
      "PR            -210.05     64.161    -3.2738     0.0011     -336.12     -83.973\n",
      "==============================================================================\n"
     ]
    }
   ],
   "source": [
    "# Criar e rodar o modelo sem o efeito do ano\n",
    "mod_sem_year = BetweenOLS(data_sugar.Yield, exog_sem_year)\n",
    "be_res_sugar = mod_sem_year.fit(reweight = True)\n",
    "print(be_res_sugar)"
   ]
  },
  {
   "cell_type": "markdown",
   "id": "6d142dea",
   "metadata": {},
   "source": [
    "## Comparar os modelos"
   ]
  },
  {
   "cell_type": "code",
   "execution_count": 23,
   "id": "cc2e6660",
   "metadata": {},
   "outputs": [
    {
     "name": "stdout",
     "output_type": "stream",
     "text": [
      "                        Model Comparison                       \n",
      "===============================================================\n",
      "                                BE              RE       Pooled\n",
      "---------------------------------------------------------------\n",
      "Dep. Variable                Yield           Yield        Yield\n",
      "Estimator               BetweenOLS   RandomEffects    PooledOLS\n",
      "No. Observations               485            9525         9525\n",
      "Cov. Est.               Unadjusted      Unadjusted   Unadjusted\n",
      "R-squared                   0.4360          0.3583       0.3661\n",
      "R-Squared (Within)          0.1402          0.3420       0.3377\n",
      "R-Squared (Between)         0.4309          0.4002       0.4224\n",
      "R-Squared (Overall)         0.2334          0.3619       0.3661\n",
      "F-statistic                 69.221          171.02       176.83\n",
      "P-value (F-stat)            0.0000          0.0000       0.0000\n",
      "===================== ============ =============== ============\n",
      "const                    1.608e+05       9.353e+04    1.278e+05\n",
      "                          (9.3964)        (10.004)     (23.989)\n",
      "AP                          2.3484         -0.0649       0.0142\n",
      "                          (1.2693)       (-0.3865)     (0.0752)\n",
      "AC                         -6.4663         -4.2167      -4.2299\n",
      "                         (-3.4035)       (-23.152)    (-20.956)\n",
      "QP                          0.0549          0.0517       0.0516\n",
      "                          (11.826)        (59.115)     (58.335)\n",
      "VP                         -0.0801          0.0278       0.0165\n",
      "                         (-1.3852)        (5.0333)     (2.7026)\n",
      "AET                        -0.8733          1.3078      -0.6901\n",
      "                         (-0.0712)        (0.4647)    (-0.2481)\n",
      "NDVI                       -2.9043         -3.4531      -2.9949\n",
      "                         (-3.5326)       (-4.7216)    (-9.0599)\n",
      "NPP                        -1.2429         -0.4360      -1.0934\n",
      "                         (-3.3645)       (-2.7508)    (-8.8941)\n",
      "SOIL                        15.039          0.9303       5.2336\n",
      "                          (2.5093)        (0.2873)     (3.0608)\n",
      "TMIN                        81.109          57.677       38.459\n",
      "                          (1.1414)        (1.1032)     (1.4552)\n",
      "TMMX                       -173.98         -4.4409      -93.767\n",
      "                         (-2.3185)       (-0.1025)    (-4.0183)\n",
      "PR                         -210.05         -26.027      -69.403\n",
      "                         (-3.2738)       (-1.9151)    (-5.0643)\n",
      "Year.2001                                  -817.16      -708.76\n",
      "                                         (-1.1349)    (-0.8780)\n",
      "Year.2002                                  -1124.0      -226.04\n",
      "                                         (-1.5294)    (-0.2913)\n",
      "Year.2003                                   1118.2       2102.5\n",
      "                                          (1.5738)     (2.6910)\n",
      "Year.2004                                   2488.2       3698.8\n",
      "                                          (3.5224)     (4.7679)\n",
      "Year.2005                                   2839.3       4560.9\n",
      "                                          (3.9961)     (5.8620)\n",
      "Year.2006                                   5215.5       6849.2\n",
      "                                          (7.1916)     (8.6713)\n",
      "Year.2007                                   4133.9       6380.2\n",
      "                                          (5.4677)     (7.9740)\n",
      "Year.2008                                   4111.8       5561.7\n",
      "                                          (5.8485)     (7.2785)\n",
      "Year.2009                                   5519.1       8707.3\n",
      "                                          (6.7070)     (10.054)\n",
      "Year.2010                                   5051.6       8202.2\n",
      "                                          (6.2220)     (9.6472)\n",
      "Year.2011                                   4173.0       6264.4\n",
      "                                          (5.7036)     (7.9057)\n",
      "Year.2012                                   1398.0       3722.0\n",
      "                                          (1.8359)     (4.6448)\n",
      "Year.2013                                   2999.6       4982.1\n",
      "                                          (3.8225)     (6.0944)\n",
      "Year.2014                                  -365.77       951.17\n",
      "                                         (-0.5044)     (1.2235)\n",
      "Year.2015                                   1562.9       5529.3\n",
      "                                          (1.7420)     (6.0956)\n",
      "Year.2016                                   2447.4       5266.8\n",
      "                                          (3.0812)     (6.3449)\n",
      "Year.2017                                   2065.8       4706.2\n",
      "                                          (2.5374)     (5.5883)\n",
      "Year.2018                                   1096.0       3611.1\n",
      "                                          (1.3343)     (4.3155)\n",
      "Year.2019                                  -428.32       1567.5\n",
      "                                         (-0.4506)     (1.6984)\n",
      "Year.2020                                   165.01       718.89\n",
      "                                          (0.1904)     (0.7816)\n",
      "---------------------------------------------------------------\n",
      "\n",
      "T-stats reported in parentheses\n"
     ]
    }
   ],
   "source": [
    "print(compare({\"BE\": be_res_sugar,'RE': re_res_sugar, \"Pooled\": pooled_res_sugar}))"
   ]
  },
  {
   "cell_type": "code",
   "execution_count": null,
   "id": "15820a82",
   "metadata": {},
   "outputs": [],
   "source": []
  }
 ],
 "metadata": {
  "kernelspec": {
   "display_name": "geo_env",
   "language": "python",
   "name": "geo_env"
  },
  "language_info": {
   "codemirror_mode": {
    "name": "ipython",
    "version": 3
   },
   "file_extension": ".py",
   "mimetype": "text/x-python",
   "name": "python",
   "nbconvert_exporter": "python",
   "pygments_lexer": "ipython3",
   "version": "3.10.5"
  }
 },
 "nbformat": 4,
 "nbformat_minor": 5
}
