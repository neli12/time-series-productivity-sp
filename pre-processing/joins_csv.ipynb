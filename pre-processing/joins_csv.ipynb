{
 "cells": [
  {
   "cell_type": "code",
   "execution_count": 71,
   "id": "5e1d241f",
   "metadata": {},
   "outputs": [],
   "source": [
    "import glob\n",
    "import os\n",
    "import pandas as pd"
   ]
  },
  {
   "cell_type": "code",
   "execution_count": 106,
   "id": "67c850be",
   "metadata": {},
   "outputs": [],
   "source": [
    "# create and sort list of file names in folder\n",
    "fl = glob.glob('*.csv')\n",
    "sorted_fl = sorted(fl)"
   ]
  },
  {
   "cell_type": "code",
   "execution_count": 102,
   "id": "d22a794c",
   "metadata": {},
   "outputs": [],
   "source": [
    "# open csv files from list and store in df\n",
    "df_list = [pd.read_csv(f) for f in sorted_fl]"
   ]
  },
  {
   "cell_type": "code",
   "execution_count": 104,
   "id": "e0bcdc05",
   "metadata": {},
   "outputs": [],
   "source": [
    "for i, df in enumerate(df_list[1:]):\n",
    "     df_output = pd.merge(df_list[0], df, on=['CD_MUN'], how='inner')"
   ]
  },
  {
   "cell_type": "code",
   "execution_count": 105,
   "id": "d5c2f094",
   "metadata": {},
   "outputs": [],
   "source": [
    "df = (pd.concat([pd.read_csv(f, sep=',').set_index('CD_MUN') for f in sorted_fl], axis=1)\n",
    " .reset_index().to_csv('merged.csv', index=False))"
   ]
  }
 ],
 "metadata": {
  "kernelspec": {
   "display_name": "geo_env",
   "language": "python",
   "name": "geo_env"
  },
  "language_info": {
   "codemirror_mode": {
    "name": "ipython",
    "version": 3
   },
   "file_extension": ".py",
   "mimetype": "text/x-python",
   "name": "python",
   "nbconvert_exporter": "python",
   "pygments_lexer": "ipython3",
   "version": "3.10.5"
  }
 },
 "nbformat": 4,
 "nbformat_minor": 5
}
