{
 "cells": [
  {
   "cell_type": "code",
   "execution_count": 107,
   "id": "78f5e13d",
   "metadata": {},
   "outputs": [],
   "source": [
    "import glob\n",
    "import os\n",
    "import pandas as pd"
   ]
  },
  {
   "cell_type": "code",
   "execution_count": 109,
   "id": "a8f483e5",
   "metadata": {},
   "outputs": [
    {
     "data": {
      "text/plain": [
       "['tmin2000.csv',\n",
       " 'tmin2001.csv',\n",
       " 'tmin2002.csv',\n",
       " 'tmin2003.csv',\n",
       " 'tmin2004.csv',\n",
       " 'tmin2005.csv',\n",
       " 'tmin2006.csv',\n",
       " 'tmin2007.csv',\n",
       " 'tmin2008.csv',\n",
       " 'tmin2009.csv',\n",
       " 'tmin2010.csv',\n",
       " 'tmin2011.csv',\n",
       " 'tmin2012.csv',\n",
       " 'tmin2013.csv',\n",
       " 'tmin2014.csv',\n",
       " 'tmin2015.csv',\n",
       " 'tmin2016.csv',\n",
       " 'tmin2017.csv',\n",
       " 'tmin2018.csv',\n",
       " 'tmin2019.csv',\n",
       " 'tmin2020.csv',\n",
       " 'tmin2021.csv']"
      ]
     },
     "execution_count": 109,
     "metadata": {},
     "output_type": "execute_result"
    }
   ],
   "source": [
    "# create and sort list of file names in folder\n",
    "fl = glob.glob('*.csv')\n",
    "sorted_fl = sorted(fl)\n",
    "sorted_fl"
   ]
  },
  {
   "cell_type": "code",
   "execution_count": 110,
   "id": "dd657448",
   "metadata": {},
   "outputs": [],
   "source": [
    "# open csv files from list and store in df\n",
    "df_list = [pd.read_csv(f) for f in sorted_fl]"
   ]
  },
  {
   "cell_type": "code",
   "execution_count": 111,
   "id": "363063f9",
   "metadata": {},
   "outputs": [],
   "source": [
    "for i, df in enumerate(df_list[1:]):\n",
    "     df_output = pd.merge(df_list[0], df, on=['CD_MUN'], how='inner')"
   ]
  },
  {
   "cell_type": "code",
   "execution_count": 112,
   "id": "0ddedc0b",
   "metadata": {},
   "outputs": [],
   "source": [
    "df = (pd.concat([pd.read_csv(f, sep=',').set_index('CD_MUN') for f in sorted_fl], axis=1)\n",
    " .reset_index().to_csv('merged.csv', index=False))"
   ]
  },
  {
   "cell_type": "code",
   "execution_count": 113,
   "id": "2bd58c94",
   "metadata": {},
   "outputs": [],
   "source": [
    "data = pd.read_csv('merged.csv')"
   ]
  },
  {
   "cell_type": "code",
   "execution_count": 117,
   "id": "be2f7d82",
   "metadata": {},
   "outputs": [],
   "source": [
    "cols = ['CD_MUN', '_2000mean', '_2001mean', '_2002mean', '_2003mean', '_2004mean', '_2005mean', '_2006mean', '_2007mean', '_2008mean',\n",
    "       '_2009mean','_2010mean', '_2011mean', '_2012mean', '_2013mean', '_2014mean', '_2015mean', '_2016mean', '_2017mean',\n",
    "       '_2018mean', '_2019mean', '_2020mean', '_2021mean']"
   ]
  },
  {
   "cell_type": "code",
   "execution_count": 119,
   "id": "6dce78b4",
   "metadata": {},
   "outputs": [],
   "source": [
    "new_data = data[cols]"
   ]
  },
  {
   "cell_type": "code",
   "execution_count": 136,
   "id": "f58499dc",
   "metadata": {},
   "outputs": [
    {
     "data": {
      "text/plain": [
       "['CD_MUN',\n",
       " 'tminx_2000',\n",
       " 'tminx_2001',\n",
       " 'tminx_2002',\n",
       " 'tminx_2003',\n",
       " 'tminx_2004',\n",
       " 'tminx_2005',\n",
       " 'tminx_2006',\n",
       " 'tminx_2007',\n",
       " 'tminx_2008',\n",
       " 'tminx_2009',\n",
       " 'tminx_2010',\n",
       " 'tminx_2011',\n",
       " 'tminx_2012',\n",
       " 'tminx_2013',\n",
       " 'tminx_2014',\n",
       " 'tminx_2015',\n",
       " 'tminx_2016',\n",
       " 'tminx_2017',\n",
       " 'tminx_2018',\n",
       " 'tminx_2019',\n",
       " 'tminx_2020',\n",
       " 'tminx_2021']"
      ]
     },
     "execution_count": 136,
     "metadata": {},
     "output_type": "execute_result"
    }
   ],
   "source": [
    "lista = ['CD_MUN']\n",
    "for i in range(2000, 2022):\n",
    "    lista.append(tmin + str(i)) \n",
    "    \n",
    "lista"
   ]
  },
  {
   "cell_type": "code",
   "execution_count": 137,
   "id": "1de16991",
   "metadata": {},
   "outputs": [],
   "source": [
    "new_data.columns = lista"
   ]
  },
  {
   "cell_type": "code",
   "execution_count": 139,
   "id": "7daa7bc0",
   "metadata": {},
   "outputs": [],
   "source": [
    "new_data.to_csv('tmin.csv', index = False)"
   ]
  },
  {
   "cell_type": "code",
   "execution_count": null,
   "id": "b85fda3b",
   "metadata": {},
   "outputs": [],
   "source": []
  }
 ],
 "metadata": {
  "kernelspec": {
   "display_name": "geo_env",
   "language": "python",
   "name": "geo_env"
  },
  "language_info": {
   "codemirror_mode": {
    "name": "ipython",
    "version": 3
   },
   "file_extension": ".py",
   "mimetype": "text/x-python",
   "name": "python",
   "nbconvert_exporter": "python",
   "pygments_lexer": "ipython3",
   "version": "3.10.5"
  }
 },
 "nbformat": 4,
 "nbformat_minor": 5
}
