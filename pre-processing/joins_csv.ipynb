{
 "cells": [
  {
   "cell_type": "markdown",
   "id": "b5c79941",
   "metadata": {},
   "source": [
    "#### Juntar varios arquivos em um só"
   ]
  },
  {
   "cell_type": "code",
   "execution_count": null,
   "id": "78f5e13d",
   "metadata": {},
   "outputs": [],
   "source": [
    "# Carregar libraries\n",
    "import glob\n",
    "import pandas as pd"
   ]
  },
  {
   "cell_type": "code",
   "execution_count": null,
   "id": "a8f483e5",
   "metadata": {},
   "outputs": [],
   "source": [
    "# Criar uma lista com todos os arquivos e organizar por data\n",
    "fl = glob.glob('*.csv')\n",
    "sorted_fl = sorted(fl)\n",
    "sorted_fl"
   ]
  },
  {
   "cell_type": "code",
   "execution_count": null,
   "id": "dd657448",
   "metadata": {},
   "outputs": [],
   "source": [
    "# Abrir arquivos e salvar em uma lista\n",
    "df_list = [pd.read_csv(f) for f in sorted_fl]\n",
    "df_list"
   ]
  },
  {
   "cell_type": "code",
   "execution_count": null,
   "id": "0ddedc0b",
   "metadata": {},
   "outputs": [],
   "source": [
    "# Juntar todos os arquivos pela coluna em comum 'CD_MUN'\n",
    "df = (pd.concat([pd.read_csv(f, sep=',').set_index('CD_MUN') for f in sorted_fl], axis=1)\n",
    "      .reset_index().to_csv('merged.csv', index=False))"
   ]
  },
  {
   "cell_type": "code",
   "execution_count": null,
   "id": "2bd58c94",
   "metadata": {},
   "outputs": [],
   "source": [
    "# Carregar de novo o csv\n",
    "data = pd.read_csv('merged.csv')\n",
    "data"
   ]
  },
  {
   "cell_type": "code",
   "execution_count": null,
   "id": "9db8cc38",
   "metadata": {},
   "outputs": [],
   "source": [
    "# Selecionar as colunas que nos interessam\n",
    "cols = ['CD_MUN', '_2000mean', '_2001mean', '_2002mean', '_2003mean', '_2004mean', '_2005mean', '_2006mean', '_2007mean', '_2008mean',\n",
    "       '_2009mean','_2010mean', '_2011mean', '_2012mean', '_2013mean', '_2014mean', '_2015mean', '_2016mean', '_2017mean',\n",
    "       '_2018mean', '_2019mean', '_2020mean', '_2021mean']"
   ]
  },
  {
   "cell_type": "code",
   "execution_count": null,
   "id": "6dce78b4",
   "metadata": {},
   "outputs": [],
   "source": [
    "# Excluri as demais colunas e criar um novo dataset\n",
    "new_data = data[cols]\n",
    "new_data.shape"
   ]
  },
  {
   "cell_type": "code",
   "execution_count": null,
   "id": "f58499dc",
   "metadata": {},
   "outputs": [],
   "source": [
    "# Renomear as colunas\n",
    "lista = ['CD_MUN']\n",
    "for i in range(2000, 2022):\n",
    "    lista.append('LST_' + str(i)) \n",
    "    \n",
    "new_data.columns = lista\n",
    "new_data"
   ]
  },
  {
   "cell_type": "code",
   "execution_count": null,
   "id": "7daa7bc0",
   "metadata": {},
   "outputs": [],
   "source": [
    "# Salvar o novo csv\n",
    "new_data.to_csv('LST.csv', index = False)"
   ]
  }
 ],
 "metadata": {
  "kernelspec": {
   "display_name": "geo_env",
   "language": "python",
   "name": "geo_env"
  },
  "language_info": {
   "codemirror_mode": {
    "name": "ipython",
    "version": 3
   },
   "file_extension": ".py",
   "mimetype": "text/x-python",
   "name": "python",
   "nbconvert_exporter": "python",
   "pygments_lexer": "ipython3",
   "version": "3.10.5"
  }
 },
 "nbformat": 4,
 "nbformat_minor": 5
}
